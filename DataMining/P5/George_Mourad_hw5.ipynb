{
 "cells": [
  {
   "cell_type": "markdown",
   "metadata": {},
   "source": [
    "# CS 484 :: Data Mining :: George Mason University :: Spring 2025\n",
    "\n",
    "\n",
    "# Homework 5: Recommender Systems\n",
    "\n",
    "- **100 points [6% of your final grade]**\n",
    "- **Due Monday, May 7 by 11:59pm**\n",
    "\n",
    "- *Goals of this homework:* implement the Matrix Factorization algorithm.\n",
    "\n",
    "- *Submission instructions:* for this homework, you only need to submit to Canvas. Please name your submission **FirstName_Lastname_hw5.ipynb**, so for example, my submission would be something like **Ziwei_Zhu_hw5.ipynb**. Your notebook should be fully executed so that we can see all outputs. "
   ]
  },
  {
   "cell_type": "markdown",
   "metadata": {},
   "source": [
    "# Part 1. Matrix Factorization (70 points total)\n",
    "\n",
    "For this part, we will:\n",
    "\n",
    "* load and process the MovieLens 1M dataset, \n",
    "* build a matrix factorization model,\n",
    "* evaluate the model."
   ]
  },
  {
   "cell_type": "markdown",
   "metadata": {},
   "source": [
    "To start out, we need to prepare the data. We will use the MovieLens 1M data from https://grouplens.org/datasets/movielens/1m/ in this homework. Lucky for you, we are providing the file containing the ratings -- ratings.dat  -- so all you need to do is loading the ratings.dat file in the notebook as a DataFrame variable using the Pandas library. The code to do this has been provided in the next cell, but you need to run it. The DataFrame variable is named as 'data_df'. The code names the column of movie id as 'MovieID', names the column of user id as 'UserID', names the column of rating as 'Rating', and the column of timestamp as 'Timestamp'. After this, the first 5 rows of data_df are printed out by DataFrame.head().\n",
    "\n",
    "Note that you should install the pandas library before you use it. For more information about Pandas, here is a quick introduction: https://pandas.pydata.org/pandas-docs/stable/user_guide/10min.html. "
   ]
  },
  {
   "cell_type": "code",
   "execution_count": 2,
   "metadata": {},
   "outputs": [
    {
     "data": {
      "text/html": [
       "<div>\n",
       "<style scoped>\n",
       "    .dataframe tbody tr th:only-of-type {\n",
       "        vertical-align: middle;\n",
       "    }\n",
       "\n",
       "    .dataframe tbody tr th {\n",
       "        vertical-align: top;\n",
       "    }\n",
       "\n",
       "    .dataframe thead th {\n",
       "        text-align: right;\n",
       "    }\n",
       "</style>\n",
       "<table border=\"1\" class=\"dataframe\">\n",
       "  <thead>\n",
       "    <tr style=\"text-align: right;\">\n",
       "      <th></th>\n",
       "      <th>UserID</th>\n",
       "      <th>MovieID</th>\n",
       "      <th>Rating</th>\n",
       "      <th>Timestamp</th>\n",
       "    </tr>\n",
       "  </thead>\n",
       "  <tbody>\n",
       "    <tr>\n",
       "      <th>0</th>\n",
       "      <td>1</td>\n",
       "      <td>1193</td>\n",
       "      <td>5</td>\n",
       "      <td>978300760</td>\n",
       "    </tr>\n",
       "    <tr>\n",
       "      <th>1</th>\n",
       "      <td>1</td>\n",
       "      <td>661</td>\n",
       "      <td>3</td>\n",
       "      <td>978302109</td>\n",
       "    </tr>\n",
       "    <tr>\n",
       "      <th>2</th>\n",
       "      <td>1</td>\n",
       "      <td>914</td>\n",
       "      <td>3</td>\n",
       "      <td>978301968</td>\n",
       "    </tr>\n",
       "    <tr>\n",
       "      <th>3</th>\n",
       "      <td>1</td>\n",
       "      <td>3408</td>\n",
       "      <td>4</td>\n",
       "      <td>978300275</td>\n",
       "    </tr>\n",
       "    <tr>\n",
       "      <th>4</th>\n",
       "      <td>1</td>\n",
       "      <td>2355</td>\n",
       "      <td>5</td>\n",
       "      <td>978824291</td>\n",
       "    </tr>\n",
       "  </tbody>\n",
       "</table>\n",
       "</div>"
      ],
      "text/plain": [
       "   UserID  MovieID  Rating  Timestamp\n",
       "0       1     1193       5  978300760\n",
       "1       1      661       3  978302109\n",
       "2       1      914       3  978301968\n",
       "3       1     3408       4  978300275\n",
       "4       1     2355       5  978824291"
      ]
     },
     "execution_count": 2,
     "metadata": {},
     "output_type": "execute_result"
    }
   ],
   "source": [
    "import pandas as pd\n",
    "import numpy as np\n",
    "\n",
    "data_df = pd.read_csv('./ratings.dat', sep='::', \n",
    "                      names=[\"UserID\", \"MovieID\", \"Rating\", \"Timestamp\"], \n",
    "                      engine='python')\n",
    "data_df.head()"
   ]
  },
  {
   "cell_type": "markdown",
   "metadata": {},
   "source": [
    "Now let's find some simple statistics for this dataset. In the next cell, please count and print how many unique users, unique movies, and how many ratings there are in this dataset. \n",
    "\n",
    "**Hint: You may need to use the function pandas.Series.unique(), as introduced in https://pandas.pydata.org/docs/reference/api/pandas.Series.unique.html.**"
   ]
  },
  {
   "cell_type": "code",
   "execution_count": 3,
   "metadata": {},
   "outputs": [
    {
     "name": "stdout",
     "output_type": "stream",
     "text": [
      "Number of unique users: 6040\n",
      "Number of unique movies: 3706\n",
      "Total number of ratings: 1000209\n"
     ]
    }
   ],
   "source": [
    "# count and print how many unique users, unique movies, and ratings in this dataset\n",
    "# Your Code Here...\n",
    "num_unique_users = data_df['UserID'].nunique()\n",
    "num_unique_movies = data_df['MovieID'].nunique()\n",
    "num_total_ratings = len(data_df)\n",
    "\n",
    "# Print the results\n",
    "print(f\"Number of unique users: {num_unique_users}\")\n",
    "print(f\"Number of unique movies: {num_unique_movies}\")\n",
    "print(f\"Total number of ratings: {num_total_ratings}\")"
   ]
  },
  {
   "cell_type": "markdown",
   "metadata": {},
   "source": [
    "Because in Python, the index for a list starts from 0, it is more convenient if we have the ids of users and movies start from 0 as well. Moreover, we also need to make sure the UserID and MovieID are consecutive, so in the next cell, we reindex UserID and MovieID. The code is already provided, but you still need to run it. (It may take a few minutes to run it.)"
   ]
  },
  {
   "cell_type": "code",
   "execution_count": 4,
   "metadata": {},
   "outputs": [
    {
     "data": {
      "text/html": [
       "<div>\n",
       "<style scoped>\n",
       "    .dataframe tbody tr th:only-of-type {\n",
       "        vertical-align: middle;\n",
       "    }\n",
       "\n",
       "    .dataframe tbody tr th {\n",
       "        vertical-align: top;\n",
       "    }\n",
       "\n",
       "    .dataframe thead th {\n",
       "        text-align: right;\n",
       "    }\n",
       "</style>\n",
       "<table border=\"1\" class=\"dataframe\">\n",
       "  <thead>\n",
       "    <tr style=\"text-align: right;\">\n",
       "      <th></th>\n",
       "      <th>UserID</th>\n",
       "      <th>MovieID</th>\n",
       "      <th>Rating</th>\n",
       "      <th>Timestamp</th>\n",
       "    </tr>\n",
       "  </thead>\n",
       "  <tbody>\n",
       "    <tr>\n",
       "      <th>0</th>\n",
       "      <td>0</td>\n",
       "      <td>0</td>\n",
       "      <td>5</td>\n",
       "      <td>978300760</td>\n",
       "    </tr>\n",
       "    <tr>\n",
       "      <th>1</th>\n",
       "      <td>0</td>\n",
       "      <td>1</td>\n",
       "      <td>3</td>\n",
       "      <td>978302109</td>\n",
       "    </tr>\n",
       "    <tr>\n",
       "      <th>2</th>\n",
       "      <td>0</td>\n",
       "      <td>2</td>\n",
       "      <td>3</td>\n",
       "      <td>978301968</td>\n",
       "    </tr>\n",
       "    <tr>\n",
       "      <th>3</th>\n",
       "      <td>0</td>\n",
       "      <td>3</td>\n",
       "      <td>4</td>\n",
       "      <td>978300275</td>\n",
       "    </tr>\n",
       "    <tr>\n",
       "      <th>4</th>\n",
       "      <td>0</td>\n",
       "      <td>4</td>\n",
       "      <td>5</td>\n",
       "      <td>978824291</td>\n",
       "    </tr>\n",
       "  </tbody>\n",
       "</table>\n",
       "</div>"
      ],
      "text/plain": [
       "   UserID  MovieID  Rating  Timestamp\n",
       "0       0        0       5  978300760\n",
       "1       0        1       3  978302109\n",
       "2       0        2       3  978301968\n",
       "3       0        3       4  978300275\n",
       "4       0        4       5  978824291"
      ]
     },
     "execution_count": 4,
     "metadata": {},
     "output_type": "execute_result"
    }
   ],
   "source": [
    "# First, generate dictionaries for mapping old id to new id for users and movies\n",
    "unique_MovieID = data_df['MovieID'].unique()\n",
    "unique_UserID = data_df['UserID'].unique()\n",
    "j = 0\n",
    "user_old2new_id_dict = dict()\n",
    "for u in unique_UserID:\n",
    "    user_old2new_id_dict[u] = j\n",
    "    j += 1\n",
    "j = 0\n",
    "movie_old2new_id_dict = dict()\n",
    "for i in unique_MovieID:\n",
    "    movie_old2new_id_dict[i] = j\n",
    "    j += 1\n",
    "    \n",
    "# Then, use the generated dictionaries to reindex UserID and MovieID in the data_df\n",
    "for j in range(len(data_df)):\n",
    "    data_df.at[j, 'UserID'] = user_old2new_id_dict[data_df.at[j, 'UserID']]\n",
    "    data_df.at[j, 'MovieID'] = movie_old2new_id_dict[data_df.at[j, 'MovieID']]\n",
    "\n",
    "data_df.head(5)"
   ]
  },
  {
   "cell_type": "markdown",
   "metadata": {},
   "source": [
    "Now, you have got a ready-to-use dataset. The next step is to split it **randomly** into training and testing sets so that you can build your recommendation model based on the training set and evaluate it on the testing set. Here you need to split the data_df into two parts: a DataFrame **train_df** containing 70% user-movie-rating samples in data_df, and a DataFrame **test_df** containing 30% samples. train_df and test_df should have no overlap. In the next cell, write your code and print the numbers of samples in the generated train_df and test_df at last.\n",
    "\n",
    "**Note that here we just have training and testing sets without using a validation set for the sake of simplicity. This is not a good paradigm in practice.**\n",
    "\n",
    "**Hint: you may need to use functions from numpy.random for generating random numbers.**"
   ]
  },
  {
   "cell_type": "code",
   "execution_count": 5,
   "metadata": {},
   "outputs": [
    {
     "name": "stdout",
     "output_type": "stream",
     "text": [
      "num of train_df = 700146\n",
      "num of test_df = 300063\n"
     ]
    }
   ],
   "source": [
    "# generate train_df with 70% samples and test_df with 30% samples, and there should have no overlap between them.\n",
    "# Your Code Here...\n",
    "# Shuffle the indices\n",
    "shuffled_indices = np.random.permutation(len(data_df))\n",
    "\n",
    "# Calculate the split point\n",
    "split_index = int(len(data_df) * 0.7)\n",
    "\n",
    "# Get training and testing indices\n",
    "train_indices = shuffled_indices[:split_index]\n",
    "test_indices = shuffled_indices[split_index:]\n",
    "\n",
    "# Create train and test DataFrames\n",
    "train_df = data_df.iloc[train_indices].reset_index(drop=True)\n",
    "test_df = data_df.iloc[test_indices].reset_index(drop=True)\n",
    "\n",
    "# End of your code\n",
    "\n",
    "print('num of train_df = ' + str(len(train_df)))\n",
    "print('num of test_df = ' + str(len(test_df)))"
   ]
  },
  {
   "cell_type": "markdown",
   "metadata": {},
   "source": [
    "Last, we need to generate numpy array variables (i.e., matrix version of dataset) for both train_df and test_df for the ease of calculation in the next step. More specifically, we will generate two numpy array variables of size (#user by #movie) with each entry representing the user-movie rating. And if the user-movie rating is missing, then the corresponding entry is 0. The code is already provided, but you still need to run it and it is a good chance for you to check the correctness of your previous code by running the provided code. \n",
    "\n",
    "**Hint: Please make sure you have already installed the scipy library before running the code.**"
   ]
  },
  {
   "cell_type": "code",
   "execution_count": 6,
   "metadata": {},
   "outputs": [],
   "source": [
    "from scipy.sparse import coo_matrix\n",
    "\n",
    "num_user = len(data_df['UserID'].unique())\n",
    "num_movie = len(data_df['MovieID'].unique())\n",
    "\n",
    "train_mat = coo_matrix((train_df['Rating'].values, (train_df['UserID'].values, train_df['MovieID'].values)), \n",
    "                       shape=(num_user, num_movie)).toarray().astype(float)\n",
    "test_mat = coo_matrix((test_df['Rating'].values, (test_df['UserID'].values, test_df['MovieID'].values)), \n",
    "                      shape=(num_user, num_movie)).toarray().astype(float)"
   ]
  },
  {
   "cell_type": "markdown",
   "metadata": {},
   "source": [
    "With the processed data, let's implement the matrix factorization (MF for short) model introduced in class. The MF model can be mathematically represented as: \n",
    "\n",
    "<center>$\\underset{\\mathbf{P},\\mathbf{Q}}{\\text{min}}\\,\\,L=\\sum_{(u,i)\\in\\mathcal{O}}(\\mathbf{P}_u\\cdot\\mathbf{Q}^\\top_i-r_{u,i})^2+\\lambda(\\lVert\\mathbf{P}\\rVert^2_{\\text{F}}+\\lVert\\mathbf{Q}\\rVert^2_{\\text{F}})$,</center>\n",
    "    \n",
    "where $\\mathbf{P}$ is the user latent factor matrix of size (#user, #latent); $\\mathbf{Q}$ is the movie latent factor matrix of size (#movie, #latent); $\\mathcal{O}$ is a user-movie pair set containing all user-movie pairs having ratings in train_mat; $r_{u,i}$ represents the rating for user u and movie i; $\\lambda(\\lVert\\mathbf{P}\\rVert^2_{\\text{F}}+\\lVert\\mathbf{Q}\\rVert^2_{\\text{F}})$ is the regularization term to overcome overfitting problem, $\\lambda$ is the regularization weight (a hyper-parameter manually set by developer, i.e., you), and $\\lVert\\mathbf{P}\\rVert^2_{\\text{F}}=\\sum_{x}\\sum_{y}(\\mathbf{P}_{x,y})^2$, $\\lVert\\mathbf{Q}\\rVert^2_{\\text{F}}=\\sum_{x}\\sum_{y}(\\mathbf{Q}_{x,y})^2$. Such an L function is called the **loss function** for the matrix factorization model. The goal of training an MF model is to find appropriate $\\mathbf{P}$ and $\\mathbf{Q}$ to minimize the loss L."
   ]
  },
  {
   "cell_type": "markdown",
   "metadata": {},
   "source": [
    "To implement such an MF, here we will write a Python class for the model. There are three functions in this MF class: init, train, and predict. \n",
    "\n",
    "* The 'init' function (**already provided**) is to initialize the variables the MF class needs, which takes 5 inputs: train_mat, test_mat, latent, lr, and reg. 'train_mat' and 'test_mat' are the corresponfing training and testing matrices we have. 'latent' represents the latent dimension we set for the MF model. 'lr' represents the learning rate, i.e., the update step in each optimization iteration, default is 0.01. 'reg' represents the regularization weight, i.e., the $\\lambda$ in the MF formulation.\n",
    "\n",
    "* The 'train' function (**partially provided and need to complete**) is to train the MF model given the training data train_mat. There is only one input to this function: an int variable 'epoch' to indicate how many epochs for training the model. The main body of this function should be a loop for 'epoch' iterations. In each iteration, following the algorithm to update the MF model:\n",
    "\n",
    "        1. Randomly shuffle training user-movie pairs  (i.e., user-movie pairs having ratings in train_mat)\n",
    "        2. Have an inner loop to iterate each user-movie pair:\n",
    "                a. given a user-movie pair (u,i), update the user latent factor and movie latent factor by gradient decsent:    \n",
    "<center>$\\mathbf{P}^\\prime_u=\\mathbf{P}_u-\\gamma [2(\\mathbf{P}_u\\cdot\\mathbf{Q}_i^\\top-r_{u,i})\\cdot\\mathbf{Q}_i+2\\lambda\\mathbf{P}_u]$</center>    \n",
    "<center>$\\mathbf{Q}^\\prime_i=\\mathbf{Q}_i-\\gamma [2(\\mathbf{P}_u\\cdot\\mathbf{Q}_i^\\top-r_{u,i})\\cdot\\mathbf{P}_u+2\\lambda\\mathbf{Q}_i]$</center>    \n",
    "<center>where $\\mathbf{P}_u$ and $\\mathbf{Q}_i$ are row vectors of size (1, #latent), $\\gamma$ is learning rate (default is 0.01), $\\lambda$ is regularization weight.</center>\n",
    "        \n",
    "        3. After iterating over all user-movie pairs, we have finished the training for the current epoch. Now calculate and print out the value of the loss function L after this epoch, and the RMSE on test_mat by the current MF model. Then append them to lists to keep a record of them.\n",
    "The train function needs to return two lists: 'epoch_loss_list' recording the loss after each training epoch, and 'epoch_test_RMSE_list' recording the RMSE on test_mat after each training epoch. The calculation of RMSE is formulated as:\n",
    "<center>$RMSE=\\sqrt{\\frac{1}{|\\mathcal{O}_{test}|}\\sum_{(u,i)\\in\\mathcal{O}_{test}}(\\mathbf{P}_u\\cdot\\mathbf{Q}^\\top_i-r_{u,i})^2}$</center> \n",
    "<center>where $\\mathcal{O}_{test}$ is a user-movie pair set containing all user-movie pairs having ratings in test_mat, and $|\\mathcal{O}_{test}|$ represents the total number of user-movie pairs in test_mat.</center>\n",
    "\n",
    "* The 'predict' function (**already provided**) is to calculate the prediction_mat by the learned $\\mathbf{P}$ and $\\mathbf{Q}$.\n"
   ]
  },
  {
   "cell_type": "markdown",
   "metadata": {},
   "source": [
    "In the next cell, we provide the 'init' and 'predict' functions. You will need to fill in the 'train' function based on the description above. \n",
    "\n",
    "**NOTE: Make sure that $\\mathbf{P}^\\prime_u$ and $\\mathbf{Q}^\\prime_i$ are both calculated by original $\\mathbf{P}_u$ and $\\mathbf{Q}_i$ from the previous iteration.**\n",
    "\n",
    "**NOTE: use matrix calculation instead of an iterative method to calculate test RMSE: use code similar to**\n",
    "- test_rmse = (np.sum(((prediction_mat - self.test_mat) * self.test_indicator_mat) ** 2) / np.sum(self.test_indicator_mat)) ** 0.5\n",
    "\n",
    "**NOTE: you should not delete or modify any provided code, you only need to add your code between \"start of your code\" and \"end of your code\" comments.**"
   ]
  },
  {
   "cell_type": "code",
   "execution_count": 7,
   "metadata": {},
   "outputs": [],
   "source": [
    "class MF:\n",
    "    def __init__(self, train_mat, test_mat, latent=5, lr=0.01, reg=0.01):\n",
    "        self.train_mat = train_mat  # the training rating matrix of size (#user, #movie)\n",
    "        self.test_mat = test_mat  # the training rating matrix of size (#user, #movie)\n",
    "        \n",
    "        self.latent = latent  # the latent dimension\n",
    "        self.lr = lr  # learning rate\n",
    "        self.reg = reg  # regularization weight, i.e., the lambda in the objective function\n",
    "        \n",
    "        self.num_user, self.num_movie = train_mat.shape\n",
    "        \n",
    "        # get the user-movie pairs having ratings in train_mat\n",
    "        # self.train_user stores user ids, self.train_movie stores movie ids.\n",
    "        self.train_user, self.train_movie = self.train_mat.nonzero()  \n",
    "        \n",
    "        self.num_train = len(self.train_user)  # the number of user-movie pairs having ratings in train_mat\n",
    "\n",
    "        self.train_indicator_mat = 1.0 * (train_mat > 0)  # binary matrix to indicate whether s user-movie pair has rating or not in train_mat\n",
    "        self.test_indicator_mat = 1.0 * (test_mat > 0)  # binary matrix to indicate whether s user-movie pair has rating or not in test_mat\n",
    "\n",
    "        self.P = np.random.random((self.num_user, self.latent))  # latent factors for users, size (#user, self.latent), randomly initialized\n",
    "        self.Q = np.random.random((self.num_movie, self.latent))  # latent factors for users, size (#movie, self.latent), randomly initialized\n",
    "\n",
    "    def train(self, epoch=20, verbose=True):\n",
    "        \"\"\"\n",
    "        Goal: Write your code to train your matrix factorization model for epoch iterations in this function\n",
    "        Input: epoch -- the number of training epoch \n",
    "        Output: epoch_loss_list -- a list recording the training loss for each epoch\n",
    "                epoch_test_RMSE_list -- a list recording the testing RMSE after each training epoch\n",
    "        \"\"\"\n",
    "        epoch_loss_list = []\n",
    "        epoch_test_RMSE_list = []\n",
    "        for ep in range(epoch):\n",
    "            \"\"\" \n",
    "            Write your code here to implement the training process for one epoch, \n",
    "            and at the end of each epoch, print out the epoch number, the training loss after this epoch, \n",
    "            and the test RMSE after this epoch\n",
    "            \"\"\"\n",
    "            # start of your code\n",
    "            epoch_loss = 0.0\n",
    "\n",
    "            # SGD updates over all observed (user, movie) pairs\n",
    "            for idx in range(self.num_train):\n",
    "                u = self.train_user[idx]\n",
    "                i = self.train_movie[idx]\n",
    "                r_ui = self.train_mat[u, i]\n",
    "                \n",
    "                # Predicted rating\n",
    "                pred = np.dot(self.P[u], self.Q[i])\n",
    "                error = r_ui - pred\n",
    "                \n",
    "                # Compute gradients and update latent factors\n",
    "                self.P[u] += self.lr * (error * self.Q[i] - self.reg * self.P[u])\n",
    "                self.Q[i] += self.lr * (error * self.P[u] - self.reg * self.Q[i])\n",
    "                \n",
    "                # Accumulate squared loss\n",
    "                epoch_loss += 0.5 * (error ** 2 + self.reg * (np.linalg.norm(self.P[u])**2 + np.linalg.norm(self.Q[i])**2))\n",
    "\n",
    "            # After each epoch, compute RMSE on the test set\n",
    "            pred_mat = self.predict()\n",
    "            error_mat = (self.test_mat - pred_mat) * self.test_indicator_mat\n",
    "            test_rmse = np.sqrt(np.sum(error_mat ** 2) / np.sum(self.test_indicator_mat))\n",
    "\n",
    "            # End of your code for this function\n",
    "            \n",
    "            epoch_loss_list.append(epoch_loss)\n",
    "            epoch_test_RMSE_list.append(test_rmse)\n",
    "            if verbose:\n",
    "                print('Epoch={0}, Training Loss={1}, Testing RMSE={2}'.format(ep + 1, epoch_loss, test_rmse))\n",
    "            \n",
    "        return epoch_loss_list, epoch_test_RMSE_list\n",
    "        \n",
    "        \n",
    "    def predict(self):\n",
    "        prediction_mat = np.matmul(self.P, self.Q.T)\n",
    "        return prediction_mat"
   ]
  },
  {
   "cell_type": "markdown",
   "metadata": {},
   "source": [
    "Now, let's train an MF model based on your implementation. The code is provided, you just need to excute the next cell. The expectations are: \n",
    "\n",
    "* first, the code can be successfully excuted without error; \n",
    "* second, the training loss and RMSE on **test_mat** of each training epoch should be printed out for all 20 epochs;\n",
    "* last, the best RMSE on **test_mat** should be <0.92.\n",
    "\n",
    "\n",
    "**Hint: the expected time used for training is around 10s to 60s per training epoch.**"
   ]
  },
  {
   "cell_type": "code",
   "execution_count": null,
   "metadata": {},
   "outputs": [
    {
     "name": "stdout",
     "output_type": "stream",
     "text": [
      "Epoch=1, Training Loss=400916.075113115, Testing RMSE=2.2068476804470105\n",
      "Epoch=2, Training Loss=333526.9438278275, Testing RMSE=0.9978507059712779\n",
      "Epoch=3, Training Loss=300117.5968691242, Testing RMSE=0.9653566795603266\n",
      "Epoch=4, Training Loss=295296.4899038162, Testing RMSE=0.9556244720394687\n",
      "Epoch=5, Training Loss=291100.32132789923, Testing RMSE=0.9487711435073872\n",
      "Epoch=6, Training Loss=286448.1329385292, Testing RMSE=0.9428697724654475\n",
      "Epoch=7, Training Loss=282074.25952764, Testing RMSE=0.9382454150297075\n",
      "Epoch=8, Training Loss=278417.0491584927, Testing RMSE=0.9347004090969401\n",
      "Epoch=9, Training Loss=275374.46336850786, Testing RMSE=0.9318570316989738\n",
      "Epoch=10, Training Loss=272767.83727305394, Testing RMSE=0.9294411443240479\n",
      "Epoch=11, Training Loss=270472.41556276864, Testing RMSE=0.9272808755330048\n",
      "Epoch=12, Training Loss=268412.50895091885, Testing RMSE=0.9252864694528891\n",
      "Epoch=13, Training Loss=266544.39745022455, Testing RMSE=0.9234225519541358\n",
      "Epoch=14, Training Loss=264842.5766764307, Testing RMSE=0.921680136688129\n",
      "Epoch=15, Training Loss=263290.9038590454, Testing RMSE=0.920057297587562\n",
      "Epoch=16, Training Loss=261877.65744855444, Testing RMSE=0.918550367940491\n",
      "Epoch=17, Training Loss=260593.0565387308, Testing RMSE=0.917152484482959\n",
      "Epoch=18, Training Loss=259428.12987343062, Testing RMSE=0.9158552849615139\n",
      "Epoch=19, Training Loss=258374.26105974813, Testing RMSE=0.9146509055714209\n",
      "Epoch=20, Training Loss=257423.05538015798, Testing RMSE=0.9135331182280094\n"
     ]
    }
   ],
   "source": [
    "mf = MF(train_mat, test_mat, latent=5, lr=0.01, reg=0.001)\n",
    "epoch_loss_list, epoch_test_RMSE_list = mf.train(20)"
   ]
  },
  {
   "cell_type": "markdown",
   "metadata": {},
   "source": [
    "# Part 2: Tune Hyper-parameters in Matrix Factorization (30 points)\n",
    "\n",
    "In Part 1, we train an MF model with latent dimension set as 5, regularization weight as 0.001, training epoch as 20. However, it is not clear whether these are good choices or not. Hence, in this part, we will tune these hyper-parameters to train an effective model.\n",
    "\n",
    "A most straightforward but powerful method is to grid search each hyper-parameter and find the best one based on the RMSE on test_mat. In this part, we will do the grid search for train epoch, latent dimension, and regularization weight."
   ]
  },
  {
   "cell_type": "markdown",
   "metadata": {},
   "source": [
    "### Tune training epoch\n",
    "\n",
    "For training epoch, we only need to run the experiment of MF for one time, and record the test RMSE for each epoch and find the epoch that produces the best test RMSE. To visually show the change of test RMSE corresponding to the training epoch, we can plot the test RMSE for each epoch in a figure as shown in the next cell.\n",
    "\n",
    "**Note that you need to first install the matplotlib, then you can excute the next cell**"
   ]
  },
  {
   "cell_type": "code",
   "execution_count": 27,
   "metadata": {},
   "outputs": [
    {
     "data": {
      "image/png": "[encoded data removed]",
      "text/plain": [
       "<Figure size 800x400 with 1 Axes>"
      ]
     },
     "metadata": {},
     "output_type": "display_data"
    }
   ],
   "source": [
    "import matplotlib.pyplot as plt\n",
    "\n",
    "fig, ax = plt.subplots(nrows=1, ncols=1, figsize=(8, 4))\n",
    "ax.plot(np.arange(len(epoch_test_RMSE_list)) + 1, epoch_test_RMSE_list, marker='.', linewidth=1.5, markersize=8)\n",
    "ax.set_xticks(np.arange(len(epoch_test_RMSE_list)) + 1)\n",
    "ax.set_ylabel('test RMSE')\n",
    "ax.set_xlabel('epoch')\n",
    "ax.set_title('Tune training epoch')\n",
    "ax.grid(True)\n",
    "plt.tight_layout()\n",
    "plt.show()"
   ]
  },
  {
   "cell_type": "markdown",
   "metadata": {},
   "source": [
    "### Question: Based on this plot, what is the best epoch for your MF model?"
   ]
  },
  {
   "cell_type": "markdown",
   "metadata": {},
   "source": [
    "#### Write your answer \n",
    "20\n"
   ]
  },
  {
   "cell_type": "markdown",
   "metadata": {},
   "source": [
    "### Tune latent dimension\n",
    "\n",
    "By this figure, you can find the best epoch for your MF model. Similarly, you can plot how the test RMSE changes when you set different latent dimensions. For this, you need to run the code to initialize and train the MF model for multiple times with different settings of 'latent'. Please run the MF model with 'latent' as {1,3,5,7,9}, and plot the corresponding test RMSE for these five different latent dimensions in the next cell. \n",
    "\n",
    "**Note that for these five runs of experiments, record the test RMSE after Ep training epochs -- Ep is the best epoch you find by the 'Tune training epoch' plot. And here, fix regularization weight as 0.001**.\n",
    "\n",
    "**Note that the expected output of the next cell is just the plot, you don't need to show the code and printing of the experiment with different 'latent' here.**"
   ]
  },
  {
   "cell_type": "code",
   "execution_count": 34,
   "metadata": {},
   "outputs": [
    {
     "name": "stdout",
     "output_type": "stream",
     "text": [
      "Epoch=1, Training Loss=571312.3067072724, Testing RMSE=4.134391694480044\n",
      "Epoch=2, Training Loss=398066.90623214847, Testing RMSE=1.0779573405628748\n",
      "Epoch=3, Training Loss=309259.21034078137, Testing RMSE=0.9963098116299627\n",
      "Epoch=4, Training Loss=302739.62429160974, Testing RMSE=0.9738776837517032\n",
      "Epoch=5, Training Loss=300943.88493046485, Testing RMSE=0.9647616861014268\n",
      "Epoch=6, Training Loss=300078.0628094174, Testing RMSE=0.9602396997587691\n",
      "Epoch=7, Training Loss=299589.5288795861, Testing RMSE=0.9577314299847951\n",
      "Epoch=8, Training Loss=299290.9938456251, Testing RMSE=0.9562429172395306\n",
      "Epoch=9, Training Loss=299101.66719171405, Testing RMSE=0.9553265672828515\n",
      "Epoch=10, Training Loss=298981.1212069752, Testing RMSE=0.9547572458637253\n",
      "Epoch=11, Training Loss=298906.933404147, Testing RMSE=0.9544117677474209\n",
      "Epoch=12, Training Loss=298865.7103553951, Testing RMSE=0.9542181516906451\n",
      "Epoch=13, Training Loss=298848.9896968383, Testing RMSE=0.9541320643509981\n",
      "Epoch=14, Training Loss=298851.1835900813, Testing RMSE=0.9541250013306439\n",
      "Epoch=15, Training Loss=298868.46860579395, Testing RMSE=0.9541779690515423\n",
      "Epoch=16, Training Loss=298898.1508787409, Testing RMSE=0.9542779249388915\n",
      "Epoch=17, Training Loss=298938.28562448587, Testing RMSE=0.9544156810323493\n",
      "Epoch=18, Training Loss=298987.44002299075, Testing RMSE=0.954584621993866\n",
      "Epoch=19, Training Loss=299044.54045782145, Testing RMSE=0.9547798952243157\n",
      "Epoch=20, Training Loss=299108.77123282285, Testing RMSE=0.9549978845045786\n",
      "Epoch=1, Training Loss=450556.08080519515, Testing RMSE=3.0349194493520155\n",
      "Epoch=2, Training Loss=358689.504062387, Testing RMSE=1.0266092261467734\n",
      "Epoch=3, Training Loss=304067.49595636583, Testing RMSE=0.9778853025584937\n",
      "Epoch=4, Training Loss=299483.4534043831, Testing RMSE=0.9645810442094871\n",
      "Epoch=5, Training Loss=297684.32551692723, Testing RMSE=0.9591941200869516\n",
      "Epoch=6, Training Loss=296414.41105144966, Testing RMSE=0.9565127076761759\n",
      "Epoch=7, Training Loss=295215.1703272258, Testing RMSE=0.9547627955336979\n",
      "Epoch=8, Training Loss=293840.0940343218, Testing RMSE=0.9530150027258968\n",
      "Epoch=9, Training Loss=292049.121164838, Testing RMSE=0.9505422900813095\n",
      "Epoch=10, Training Loss=289623.26444571343, Testing RMSE=0.9468499199039622\n",
      "Epoch=11, Training Loss=286558.45510751137, Testing RMSE=0.9420637499035948\n",
      "Epoch=12, Training Loss=283220.51571687876, Testing RMSE=0.936944778709565\n",
      "Epoch=13, Training Loss=280101.6803012904, Testing RMSE=0.932216223494753\n",
      "Epoch=14, Training Loss=277469.9562218612, Testing RMSE=0.9281757433930001\n",
      "Epoch=15, Training Loss=275350.26873770356, Testing RMSE=0.924840281027648\n",
      "Epoch=16, Training Loss=273665.05084019026, Testing RMSE=0.9221297752819974\n",
      "Epoch=17, Training Loss=272322.2719512561, Testing RMSE=0.9199465688113166\n",
      "Epoch=18, Training Loss=271243.9439588535, Testing RMSE=0.9181996564217975\n",
      "Epoch=19, Training Loss=270369.9762871001, Testing RMSE=0.9168105026758165\n",
      "Epoch=20, Training Loss=269655.31185937324, Testing RMSE=0.9157135760807085\n",
      "Epoch=1, Training Loss=399687.957666959, Testing RMSE=2.2217496445031335\n",
      "Epoch=2, Training Loss=333851.3848268685, Testing RMSE=0.9978603459828831\n",
      "Epoch=3, Training Loss=300581.1528834735, Testing RMSE=0.96587475877978\n",
      "Epoch=4, Training Loss=296490.55113139655, Testing RMSE=0.9574873465252778\n",
      "Epoch=5, Training Loss=293562.4105631652, Testing RMSE=0.9525146892832841\n",
      "Epoch=6, Training Loss=289957.14467068244, Testing RMSE=0.9473133449150752\n",
      "Epoch=7, Training Loss=285416.5146072998, Testing RMSE=0.9414568927939823\n",
      "Epoch=8, Training Loss=280721.36907976813, Testing RMSE=0.935879830601036\n",
      "Epoch=9, Training Loss=276544.4962479296, Testing RMSE=0.9309383698268994\n",
      "Epoch=10, Training Loss=272975.34642906085, Testing RMSE=0.9265638096359049\n",
      "Epoch=11, Training Loss=269912.71737612685, Testing RMSE=0.9226572819095383\n",
      "Epoch=12, Training Loss=267260.20874025795, Testing RMSE=0.919147249126262\n",
      "Epoch=13, Training Loss=264948.30444902176, Testing RMSE=0.9159926113930967\n",
      "Epoch=14, Training Loss=262927.71014247846, Testing RMSE=0.9131733868976849\n",
      "Epoch=15, Training Loss=261161.26435014137, Testing RMSE=0.9106774999631432\n",
      "Epoch=16, Training Loss=259618.36906520804, Testing RMSE=0.9084914315595584\n",
      "Epoch=17, Training Loss=258272.07246743556, Testing RMSE=0.9065966253861292\n",
      "Epoch=18, Training Loss=257097.93763568485, Testing RMSE=0.9049698852083824\n",
      "Epoch=19, Training Loss=256073.8083778269, Testing RMSE=0.9035853988304098\n",
      "Epoch=20, Training Loss=255179.87295335176, Testing RMSE=0.902416844371207\n",
      "Epoch=1, Training Loss=371514.05702510907, Testing RMSE=1.6290443635719152\n",
      "Epoch=2, Training Loss=318148.8320125051, Testing RMSE=0.9794111764940018\n",
      "Epoch=3, Training Loss=298321.75803385285, Testing RMSE=0.9590494791573245\n",
      "Epoch=4, Training Loss=294310.5001776834, Testing RMSE=0.9543030188018837\n",
      "Epoch=5, Training Loss=290769.85177567054, Testing RMSE=0.950753482786635\n",
      "Epoch=6, Training Loss=286538.56275104807, Testing RMSE=0.9466597310960753\n",
      "Epoch=7, Training Loss=281766.9374144226, Testing RMSE=0.9423724758721936\n",
      "Epoch=8, Training Loss=277128.19711755385, Testing RMSE=0.9384952803372948\n",
      "Epoch=9, Training Loss=272950.6519274598, Testing RMSE=0.9350404553930547\n",
      "Epoch=10, Training Loss=269224.28179674293, Testing RMSE=0.931832886843235\n",
      "Epoch=11, Training Loss=265873.05193207995, Testing RMSE=0.9287561116336374\n",
      "Epoch=12, Training Loss=262840.4012876574, Testing RMSE=0.925777190294557\n",
      "Epoch=13, Training Loss=260093.14635106237, Testing RMSE=0.9229181493897295\n",
      "Epoch=14, Training Loss=257611.82881396505, Testing RMSE=0.9202238590415694\n",
      "Epoch=15, Training Loss=255382.0394743272, Testing RMSE=0.9177396612919717\n",
      "Epoch=16, Training Loss=253389.04295294615, Testing RMSE=0.9154989975040223\n",
      "Epoch=17, Training Loss=251615.5658348822, Testing RMSE=0.9135186407078796\n",
      "Epoch=18, Training Loss=250041.93086639777, Testing RMSE=0.911799291066769\n",
      "Epoch=19, Training Loss=248647.3653894325, Testing RMSE=0.91032917610975\n",
      "Epoch=20, Training Loss=247411.4472217344, Testing RMSE=0.9090885080215293\n",
      "Epoch=1, Training Loss=354199.2871274916, Testing RMSE=1.2411654869878201\n",
      "Epoch=2, Training Loss=308716.2644455875, Testing RMSE=0.9674991209237559\n",
      "Epoch=3, Training Loss=296664.8243345601, Testing RMSE=0.9559741458796139\n",
      "Epoch=4, Training Loss=292240.69590709324, Testing RMSE=0.9527323388047314\n",
      "Epoch=5, Training Loss=287632.510886166, Testing RMSE=0.9489184214602868\n",
      "Epoch=6, Training Loss=282094.66799914703, Testing RMSE=0.9441197436510104\n",
      "Epoch=7, Training Loss=276320.0457062371, Testing RMSE=0.9395401659001528\n",
      "Epoch=8, Training Loss=271072.54943065677, Testing RMSE=0.9356172252707669\n",
      "Epoch=9, Training Loss=266461.7410993745, Testing RMSE=0.9321718515130905\n",
      "Epoch=10, Training Loss=262377.401142309, Testing RMSE=0.9290533417525089\n",
      "Epoch=11, Training Loss=258723.9298659346, Testing RMSE=0.9262035430246954\n",
      "Epoch=12, Training Loss=255439.35727047749, Testing RMSE=0.9236124254660004\n",
      "Epoch=13, Training Loss=252483.19432797842, Testing RMSE=0.9212846736237092\n",
      "Epoch=14, Training Loss=249824.9538730283, Testing RMSE=0.9192221910078858\n",
      "Epoch=15, Training Loss=247437.8894215138, Testing RMSE=0.9174180991079033\n",
      "Epoch=16, Training Loss=245296.86328449697, Testing RMSE=0.9158572258599667\n",
      "Epoch=17, Training Loss=243378.02590387658, Testing RMSE=0.9145190696692737\n",
      "Epoch=18, Training Loss=241658.94826574854, Testing RMSE=0.913380875981179\n",
      "Epoch=19, Training Loss=240118.7769488801, Testing RMSE=0.9124199098528746\n",
      "Epoch=20, Training Loss=238738.34339151107, Testing RMSE=0.9116148285560892\n"
     ]
    },
    {
     "data": {
      "image/png": "[encoded data removed]",
      "text/plain": [
       "<Figure size 800x500 with 1 Axes>"
      ]
     },
     "metadata": {},
     "output_type": "display_data"
    }
   ],
   "source": [
    "# Your Code Here...\n",
    "latent_values = [1, 3, 5, 7, 9]\n",
    "test_rmses = [] \n",
    "for x in latent_values:\n",
    "    mf = MF(train_mat, test_mat, latent=x, lr=0.01, reg=0.001)\n",
    "    epoch_loss_list, epoch_test_RMSE_list = mf.train(20)\n",
    "    test_rmses.append(epoch_test_RMSE_list[-1])\n",
    "# Plotting\n",
    "plt.figure(figsize=(8, 5))\n",
    "plt.plot(latent_values, test_rmses, marker='o', linestyle='-', color='blue')\n",
    "plt.title(\"Test RMSE vs Latent Dimension\")\n",
    "plt.xlabel(\"Latent Dimension\")\n",
    "plt.ylabel(\"Test RMSE\")\n",
    "plt.xticks(latent_values)\n",
    "plt.grid(True)\n",
    "plt.tight_layout()\n",
    "plt.show()"
   ]
  },
  {
   "cell_type": "markdown",
   "metadata": {},
   "source": [
    "### Question: Based on this plot, what is the best latent dimension for your MF model?"
   ]
  },
  {
   "cell_type": "markdown",
   "metadata": {},
   "source": [
    "#### Write your answer here\n",
    "5"
   ]
  },
  {
   "cell_type": "markdown",
   "metadata": {},
   "source": [
    "### Tune regularization weight\n",
    "\n",
    "Last, you can plot how the test RMSE changes when you set different regularization weight. Please run the MF model with 'reg' as {0.0001,0.0005,0.001,0.0015,0.002}, and plot corresponding test RMSE for these five different regularization weights in the next cell. \n",
    "\n",
    "**Note that for these five runs of experiments, record the test RMSE after Ep training epochs -- Ep is the best epoch you find by the 'Tune training epoch' plot. And here, fix latent dimension as the one you find the best by the previous part**\n",
    "\n",
    "**Note that the expected output of the next cell is just the plot, you don't need to show the code and printing of the experiment with different 'reg' here.**"
   ]
  },
  {
   "cell_type": "code",
   "execution_count": null,
   "metadata": {},
   "outputs": [
    {
     "name": "stdout",
     "output_type": "stream",
     "text": [
      "Epoch=1, Training Loss=397354.7862572262, Testing RMSE=2.204617258946447\n",
      "Epoch=2, Training Loss=331036.9237323964, Testing RMSE=0.9979804795873944\n",
      "Epoch=3, Training Loss=297904.7485356405, Testing RMSE=0.9660328633935742\n",
      "Epoch=4, Training Loss=293611.93237313343, Testing RMSE=0.9575739177446847\n",
      "Epoch=5, Training Loss=290266.690444596, Testing RMSE=0.9522238487251776\n",
      "Epoch=6, Training Loss=286203.88195909624, Testing RMSE=0.9468992281260866\n",
      "Epoch=7, Training Loss=281578.7746694502, Testing RMSE=0.9417071038395134\n",
      "Epoch=8, Training Loss=277188.74366706016, Testing RMSE=0.9371918387165733\n",
      "Epoch=9, Training Loss=273396.8617989355, Testing RMSE=0.9332822692442991\n",
      "Epoch=10, Training Loss=270164.81439319765, Testing RMSE=0.9297945794087944\n",
      "Epoch=11, Training Loss=267381.3593640486, Testing RMSE=0.9266329973273684\n",
      "Epoch=12, Training Loss=264958.28074343904, Testing RMSE=0.9237663645275126\n",
      "Epoch=13, Training Loss=262833.4310914574, Testing RMSE=0.9211873960487257\n",
      "Epoch=14, Training Loss=260961.31940820583, Testing RMSE=0.9188889776178111\n",
      "Epoch=15, Training Loss=259306.64587061483, Testing RMSE=0.9168566412855151\n",
      "Epoch=16, Training Loss=257840.88129583202, Testing RMSE=0.9150695780310637\n",
      "Epoch=17, Training Loss=256540.4031463498, Testing RMSE=0.9135041164071499\n",
      "Epoch=18, Training Loss=255385.33480647404, Testing RMSE=0.912136744545915\n",
      "Epoch=19, Training Loss=254358.73377742802, Testing RMSE=0.9109458921161447\n",
      "Epoch=20, Training Loss=253446.00214462573, Testing RMSE=0.9099126264307773\n",
      "Epoch=1, Training Loss=398962.0928027093, Testing RMSE=2.226252784541119\n",
      "Epoch=2, Training Loss=332816.848031367, Testing RMSE=0.9987401078766133\n",
      "Epoch=3, Training Loss=299585.4824181828, Testing RMSE=0.9672508855965536\n",
      "Epoch=4, Training Loss=295832.15713090025, Testing RMSE=0.9597810994868959\n",
      "Epoch=5, Training Loss=293751.88215800305, Testing RMSE=0.9568252031825858\n",
      "Epoch=6, Training Loss=291840.34633026924, Testing RMSE=0.9551674737603572\n",
      "Epoch=7, Training Loss=289533.09734562074, Testing RMSE=0.9532912768819493\n",
      "Epoch=8, Training Loss=286431.8555522778, Testing RMSE=0.9503340363350863\n",
      "Epoch=9, Training Loss=282575.3534278629, Testing RMSE=0.9464859084420707\n",
      "Epoch=10, Training Loss=278571.8455179283, Testing RMSE=0.9426235074523508\n",
      "Epoch=11, Training Loss=274975.663012703, Testing RMSE=0.939225585133253\n",
      "Epoch=12, Training Loss=271923.7532570506, Testing RMSE=0.9363138031221666\n",
      "Epoch=13, Training Loss=269340.4617451548, Testing RMSE=0.9337785971525816\n",
      "Epoch=14, Training Loss=267121.1327379451, Testing RMSE=0.9315150096199426\n",
      "Epoch=15, Training Loss=265184.1867484962, Testing RMSE=0.9294514850531734\n",
      "Epoch=16, Training Loss=263473.8416574216, Testing RMSE=0.9275468715039022\n",
      "Epoch=17, Training Loss=261952.72619683706, Testing RMSE=0.925781005903068\n",
      "Epoch=18, Training Loss=260594.9557736593, Testing RMSE=0.9241460751285994\n",
      "Epoch=19, Training Loss=259381.38410243668, Testing RMSE=0.9226401560989556\n",
      "Epoch=20, Training Loss=258296.70720047934, Testing RMSE=0.9212629225213409\n",
      "Epoch=1, Training Loss=400920.23523543106, Testing RMSE=2.215338823192126\n",
      "Epoch=2, Training Loss=333871.28542334744, Testing RMSE=0.9973288674667675\n",
      "Epoch=3, Training Loss=300686.5240609508, Testing RMSE=0.9658832325291435\n",
      "Epoch=4, Training Loss=296629.71733611904, Testing RMSE=0.9576935418364193\n",
      "Epoch=5, Training Loss=293789.3482185231, Testing RMSE=0.9529362915278985\n",
      "Epoch=6, Training Loss=290381.85579778615, Testing RMSE=0.9480655406182018\n",
      "Epoch=7, Training Loss=286111.1263659274, Testing RMSE=0.9425409507417912\n",
      "Epoch=8, Training Loss=281638.48065896495, Testing RMSE=0.9371313693940249\n",
      "Epoch=9, Training Loss=277596.0398401928, Testing RMSE=0.9321544263369437\n",
      "Epoch=10, Training Loss=274097.83740168915, Testing RMSE=0.9275843107012218\n",
      "Epoch=11, Training Loss=271066.76651939, Testing RMSE=0.9234039816019202\n",
      "Epoch=12, Training Loss=268419.1693474201, Testing RMSE=0.9196180631758332\n",
      "Epoch=13, Training Loss=266088.5572252057, Testing RMSE=0.9162309893244523\n",
      "Epoch=14, Training Loss=264024.22446472105, Testing RMSE=0.9132383957062936\n",
      "Epoch=15, Training Loss=262188.5124348865, Testing RMSE=0.9106259728136293\n",
      "Epoch=16, Training Loss=260553.85567697766, Testing RMSE=0.9083712515909086\n",
      "Epoch=17, Training Loss=259099.66063879468, Testing RMSE=0.9064459293631175\n",
      "Epoch=18, Training Loss=257809.45859122244, Testing RMSE=0.904818163683709\n",
      "Epoch=19, Training Loss=256668.80756142968, Testing RMSE=0.9034548143023776\n",
      "Epoch=20, Training Loss=255664.11065467307, Testing RMSE=0.9023234389289495\n",
      "Epoch=1, Training Loss=400448.04261901043, Testing RMSE=2.2047171267016314\n",
      "Epoch=2, Training Loss=334874.2441921578, Testing RMSE=0.9963924458100996\n",
      "Epoch=3, Training Loss=301722.9830190132, Testing RMSE=0.9648431336393498\n",
      "Epoch=4, Training Loss=297449.4600704425, Testing RMSE=0.9565520829182025\n",
      "Epoch=5, Training Loss=294093.91522344947, Testing RMSE=0.951233682786628\n",
      "Epoch=6, Training Loss=290011.424457804, Testing RMSE=0.945750802906984\n",
      "Epoch=7, Training Loss=285386.5450691702, Testing RMSE=0.9401752994915844\n",
      "Epoch=8, Training Loss=281005.23415669426, Testing RMSE=0.935082219869547\n",
      "Epoch=9, Training Loss=277191.4072374435, Testing RMSE=0.9304946637334004\n",
      "Epoch=10, Training Loss=273897.3629135548, Testing RMSE=0.9262991055037396\n",
      "Epoch=11, Training Loss=271023.59613938944, Testing RMSE=0.9224274086021571\n",
      "Epoch=12, Training Loss=268495.3955220249, Testing RMSE=0.9188611427515838\n",
      "Epoch=13, Training Loss=266261.94680188235, Testing RMSE=0.9156076825515589\n",
      "Epoch=14, Training Loss=264287.3755131767, Testing RMSE=0.9126782122039632\n",
      "Epoch=15, Training Loss=262544.06908999867, Testing RMSE=0.9100764768758397\n",
      "Epoch=16, Training Loss=261008.87786772364, Testing RMSE=0.9077961009940466\n",
      "Epoch=17, Training Loss=259661.1852102661, Testing RMSE=0.9058218077980115\n",
      "Epoch=18, Training Loss=258481.9428597844, Testing RMSE=0.9041317313980508\n",
      "Epoch=19, Training Loss=257453.21168712684, Testing RMSE=0.9026998301134351\n",
      "Epoch=20, Training Loss=256558.0277441883, Testing RMSE=0.9014981310712911\n",
      "Epoch=1, Training Loss=403821.68094722275, Testing RMSE=2.2069886262657232\n",
      "Epoch=2, Training Loss=336569.2154076951, Testing RMSE=0.9974445524203442\n",
      "Epoch=3, Training Loss=303434.26849622047, Testing RMSE=0.9657020760754662\n",
      "Epoch=4, Training Loss=299411.2291204905, Testing RMSE=0.9576812257247387\n",
      "Epoch=5, Training Loss=296784.6247756711, Testing RMSE=0.9534485864607228\n",
      "Epoch=6, Training Loss=293806.92397196824, Testing RMSE=0.9494002909212204\n",
      "Epoch=7, Training Loss=289903.5600759341, Testing RMSE=0.944383900648899\n",
      "Epoch=8, Training Loss=285323.6620903972, Testing RMSE=0.9389104000060864\n",
      "Epoch=9, Training Loss=280787.8009087452, Testing RMSE=0.9337534860662143\n",
      "Epoch=10, Training Loss=276720.7982122085, Testing RMSE=0.9291265686344276\n",
      "Epoch=11, Training Loss=273192.1612120085, Testing RMSE=0.9249988108543834\n",
      "Epoch=12, Training Loss=270155.06084146636, Testing RMSE=0.9213107836026948\n",
      "Epoch=13, Training Loss=267546.4528501427, Testing RMSE=0.9180142739632396\n",
      "Epoch=14, Training Loss=265308.25856987876, Testing RMSE=0.9150760642496939\n",
      "Epoch=15, Training Loss=263389.74132832786, Testing RMSE=0.9124728198074521\n",
      "Epoch=16, Training Loss=261746.4560899165, Testing RMSE=0.9101845193013032\n",
      "Epoch=17, Training Loss=260339.21400043636, Testing RMSE=0.9081901900270528\n",
      "Epoch=18, Training Loss=259133.5351656029, Testing RMSE=0.9064665047750384\n",
      "Epoch=19, Training Loss=258099.36620161496, Testing RMSE=0.9049882661243002\n",
      "Epoch=20, Training Loss=257210.82904657928, Testing RMSE=0.9037296474760481\n"
     ]
    },
    {
     "data": {
      "image/png": "[encoded data removed]",
      "text/plain": [
       "<Figure size 800x500 with 1 Axes>"
      ]
     },
     "metadata": {},
     "output_type": "display_data"
    }
   ],
   "source": [
    "# Your Code Here...\n",
    "reg_values = [0.0001,0.0005,0.001,0.0015,0.002]\n",
    "test_rmses = [] \n",
    "for x in reg_values:\n",
    "    mf = MF(train_mat, test_mat, latent=5, lr=0.01, reg=x)\n",
    "    epoch_loss_list, epoch_test_RMSE_list = mf.train(20)\n",
    "    test_rmses.append(epoch_test_RMSE_list[-1])\n",
    "# Plotting\n",
    "plt.figure(figsize=(8, 5))\n",
    "plt.plot(reg_values, test_rmses, marker='o', linestyle='-', color='blue')\n",
    "plt.title(\"Test RMSE vs Regularization Dimension\")\n",
    "plt.xlabel(\"regularization Dimension\")\n",
    "plt.ylabel(\"Test RMSE\")\n",
    "plt.xticks(reg_values)\n",
    "plt.grid(True)\n",
    "plt.tight_layout()\n",
    "plt.show()"
   ]
  },
  {
   "cell_type": "markdown",
   "metadata": {},
   "source": [
    "### Question: Based on this plot, what is the best regularization weight for your MF model?"
   ]
  },
  {
   "cell_type": "markdown",
   "metadata": {},
   "source": [
    "#### Write your answer here\n",
    "0.0015"
   ]
  }
 ],
 "metadata": {
  "anaconda-cloud": {},
  "kernelspec": {
   "display_name": "Python 3",
   "language": "python",
   "name": "python3"
  },
  "language_info": {
   "codemirror_mode": {
    "name": "ipython",
    "version": 3
   },
   "file_extension": ".py",
   "mimetype": "text/x-python",
   "name": "python",
   "nbconvert_exporter": "python",
   "pygments_lexer": "ipython3",
   "version": "3.12.10"
  }
 },
 "nbformat": 4,
 "nbformat_minor": 1
}
